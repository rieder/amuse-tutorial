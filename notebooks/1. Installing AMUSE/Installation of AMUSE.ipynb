{
 "cells": [
  {
   "cell_type": "markdown",
   "metadata": {},
   "source": [
    "**Please execute this notebook with Kernel -> Restart & Run All**"
   ]
  },
  {
   "cell_type": "code",
   "execution_count": null,
   "metadata": {
    "scrolled": true
   },
   "outputs": [],
   "source": [
    "from IPython.display import HTML\n",
    "\n",
    "HTML('''<script>\n",
    "code_show=true; \n",
    "function code_toggle() {\n",
    " if (code_show){\n",
    " $('div.input').hide();\n",
    " } else {\n",
    " $('div.input').show();\n",
    " }\n",
    " code_show = !code_show\n",
    "} \n",
    "$( document ).ready(code_toggle);\n",
    "</script>\n",
    "Click <a href=\"javascript:code_toggle()\">here</a> to display/hide code cells in this notebook.''')"
   ]
  },
  {
   "cell_type": "code",
   "execution_count": null,
   "metadata": {},
   "outputs": [],
   "source": [
    "import ipywidgets as widgets\n",
    "from ipywidgets import interact, interactive, fixed, interact_manual\n",
    "from IPython.display import display, Markdown"
   ]
  },
  {
   "cell_type": "code",
   "execution_count": null,
   "metadata": {},
   "outputs": [],
   "source": [
    "def osdependenttext(OS=\"ubuntu\", MPI=\"openmpi\"):\n",
    "    if OS == \"ubuntu\":\n",
    "        from python27.ubuntu_1804 import prerequisites\n",
    "        text = prerequisites(MPI)\n",
    "    elif OS == \"macos\":\n",
    "        from python27.macos_macports import prerequisites\n",
    "        text = prerequisites(MPI)\n",
    "    elif OS == \"windows\":\n",
    "        from python27.windows_10 import prerequisites\n",
    "        text = prerequisites(MPI)\n",
    "    elif OS == \"other\":\n",
    "        text = \"This OS is not supported\"\n",
    "    display(Markdown(text))\n",
    "    return\n"
   ]
  },
  {
   "cell_type": "markdown",
   "metadata": {},
   "source": [
    "# Installing AMUSE"
   ]
  },
  {
   "cell_type": "markdown",
   "metadata": {},
   "source": [
    "_In this tutorial, we will assume you are using a modern OS. Older versions than current may require slightly modified instructions. Also, we will assume you're using Python 2.7. Instructions for Python 3 are slightly different._"
   ]
  },
  {
   "cell_type": "markdown",
   "metadata": {},
   "source": [
    "## 1. Installing the prerequisites"
   ]
  },
  {
   "cell_type": "markdown",
   "metadata": {},
   "source": [
    "AMUSE depends on several software packages to run properly. While the core of AMUSE requires only Python and Numpy to run, the interface to community codes is based on MPI, and several of the community codes also have specific requirements. This section documents the installation of these prerequisite codes.\n",
    "\n",
    "Please select your OS and preferred MPI below. If you already have either of these MPI versions (or another) installed, please choose that one. Having multiple MPIs installed can have undesired results."
   ]
  },
  {
   "cell_type": "code",
   "execution_count": null,
   "metadata": {
    "scrolled": false
   },
   "outputs": [],
   "source": [
    "OSChooserInteractive = interact(\n",
    "    osdependenttext, \n",
    "    OS={'Ubuntu Linux':'ubuntu', 'macOS':'macos', 'Windows':'windows', 'Other':'other'},\n",
    "    MPI={'OpenMPI':'openmpi', 'MPICH':'mpich'}\n",
    ")"
   ]
  },
  {
   "cell_type": "markdown",
   "metadata": {},
   "source": [
    "## 2. Downloading and building AMUSE\n",
    "\n",
    "Clone the AMUSE repository to your computer:\n",
    "```bash\n",
    "git clone https://github.com/amusecode/amuse.git\n",
    "```"
   ]
  },
  {
   "cell_type": "markdown",
   "metadata": {},
   "source": [
    "Then, make a virtual environment for Amuse.\n",
    "```bash\n",
    "virtualenv Amuse-env\n",
    "```\n",
    "\n",
    "This virtual environment ensures you are using the correct modules, and isolates them from other system-installed packages.\n",
    "\n",
    "To activate the environment, use\n",
    "```bash\n",
    ". Amuse-env/bin/activate\n",
    "```\n",
    "\n",
    "From this point, your prompt will have 'Amuse-env ' in front of it, to indicate that you are using this virtual environment.\n",
    "\n",
    "Inside this environment, install the python modules required by Amuse:\n",
    "```bash\n",
    "pip install future numpy scipy matplotlib nose docutils mpi4py h5py\n",
    "```\n",
    "\n",
    "Also, install any additional modules you might want to use, like Astropy:\n",
    "```bash\n",
    "pip install astropy jupyter\n",
    "```\n",
    "\n",
    "Modules needed for some of the textbook examples:\n",
    "\n",
    "```bash\n",
    "pip install pandas seaborn\n",
    "```\n",
    "\n",
    "Now, go to your Amuse repository\n",
    "```bash\n",
    "cd $AMUSEDIR\n",
    "```\n",
    "\n",
    "Run configure to set the paths correctly, with optional support for CUDA (requires a NVIDIA GPU and CUDA to be installed) and Sapporo2 (enables multi-GPU use, also requires CUDA)\n",
    "```bash\n",
    "./configure [--enable-cuda] [--enable-sapporo2]\n",
    "```\n",
    "\n",
    "Finally, install Amuse (optional: download and build communtity codes not supplied with AMUSE, e.g. MESA and Rebound)\n",
    "```bash\n",
    "[export DOWNLOAD_CODES=1]\n",
    "python setup.py install\n",
    "```\n",
    "\n",
    "Done!"
   ]
  },
  {
   "cell_type": "code",
   "execution_count": null,
   "metadata": {},
   "outputs": [],
   "source": []
  }
 ],
 "metadata": {
  "kernelspec": {
   "display_name": "Python 2",
   "language": "python",
   "name": "python2"
  },
  "language_info": {
   "codemirror_mode": {
    "name": "ipython",
    "version": 2
   },
   "file_extension": ".py",
   "mimetype": "text/x-python",
   "name": "python",
   "nbconvert_exporter": "python",
   "pygments_lexer": "ipython2",
   "version": "2.7.15"
  },
  "widgets": {
   "application/vnd.jupyter.widget-state+json": {
    "state": {
     "00197db860974835ad961ee114ed9eec": {
      "model_module": "@jupyter-widgets/base",
      "model_module_version": "1.0.0",
      "model_name": "LayoutModel",
      "state": {}
     },
     "002f2ea626e44a3b9799419b431b72fe": {
      "model_module": "@jupyter-widgets/base",
      "model_module_version": "1.0.0",
      "model_name": "LayoutModel",
      "state": {}
     },
     "042c40b6cb9140589e5e6ade10b028c0": {
      "model_module": "@jupyter-widgets/controls",
      "model_module_version": "1.1.0",
      "model_name": "VBoxModel",
      "state": {
       "_dom_classes": [
        "widget-interact"
       ],
       "children": [
        "IPY_MODEL_b98eaa9e5fed4f2b98dfdf1ea1893d69",
        "IPY_MODEL_99af6d8fe6ab4e0097103775bc4554ea",
        "IPY_MODEL_9764f148507547d1bd138f8c0bdfc8f4"
       ],
       "layout": "IPY_MODEL_3776c17f8a804e04b37b0cbbc7d84133"
      }
     },
     "0717843d823c44e8a840c05d8c5510ad": {
      "model_module": "@jupyter-widgets/controls",
      "model_module_version": "1.1.0",
      "model_name": "DropdownModel",
      "state": {
       "_options_labels": [
        "OpenMPI",
        "MPICH"
       ],
       "description": "MPI",
       "index": 0,
       "layout": "IPY_MODEL_2ebf5436815a4cd09c54dc763c8ae29c",
       "style": "IPY_MODEL_3c0cfd123dae4fc284ef33fb09972592"
      }
     },
     "0772b866a6d548f2b65bd7cec4d62e2d": {
      "model_module": "@jupyter-widgets/controls",
      "model_module_version": "1.1.0",
      "model_name": "VBoxModel",
      "state": {
       "_dom_classes": [
        "widget-interact"
       ],
       "children": [
        "IPY_MODEL_a9bc98b167524354b34fdd7ef5e2bd4d",
        "IPY_MODEL_b6d5bfc3ab294332a8841558f4c12212",
        "IPY_MODEL_0f281f6bea6449048ee478bb1a0dd3f9"
       ],
       "layout": "IPY_MODEL_29d0c6b29e9d48e8bbefea00cb76d67d"
      }
     },
     "0f281f6bea6449048ee478bb1a0dd3f9": {
      "model_module": "@jupyter-widgets/output",
      "model_module_version": "1.0.0",
      "model_name": "OutputModel",
      "state": {
       "layout": "IPY_MODEL_3417ec6ce5884f338bd81f1ec9300521",
       "outputs": [
        {
         "data": {
          "text/markdown": "In Ubuntu, use apt-get to install dependencies:  \n\n```bash\n\nsudo apt-get install build-essential gfortran python-dev \\\n     libgsl0-dev cmake libfftw3-3 libfftw3-dev \\\n     libgmp3-dev libmpfr4 libmpfr-dev \\\n     libhdf5-serial-dev hdf5-tools \\\n     python-nose python-numpy python-setuptools python-docutils \\\n     python-h5py python-setuptools git \\\n     libopenmpi-dev openmpi-bin\nsudo easy_install mpi4py \n```",
          "text/plain": "<IPython.core.display.Markdown object>"
         },
         "metadata": {},
         "output_type": "display_data"
        }
       ]
      }
     },
     "10c1de21d3414a4780ae84c5c9e7a64c": {
      "model_module": "@jupyter-widgets/base",
      "model_module_version": "1.0.0",
      "model_name": "LayoutModel",
      "state": {}
     },
     "1a699afb9d694cc1999dab651fe04885": {
      "model_module": "@jupyter-widgets/controls",
      "model_module_version": "1.1.0",
      "model_name": "DropdownModel",
      "state": {
       "_options_labels": [
        "OpenMPI",
        "MPICH"
       ],
       "description": "MPI",
       "index": 0,
       "layout": "IPY_MODEL_e48a4ba70ad24e499ea2eb71b27c9050",
       "style": "IPY_MODEL_7d6e074c87d748a7a51869cddcdae046"
      }
     },
     "1fa4247748c2459e9d3c666c4147a58e": {
      "model_module": "@jupyter-widgets/base",
      "model_module_version": "1.0.0",
      "model_name": "LayoutModel",
      "state": {}
     },
     "2604c5714071499fa8df1491afc5627f": {
      "model_module": "@jupyter-widgets/base",
      "model_module_version": "1.0.0",
      "model_name": "LayoutModel",
      "state": {}
     },
     "261d9b80a4ea4a359262690bb0305fa7": {
      "model_module": "@jupyter-widgets/base",
      "model_module_version": "1.0.0",
      "model_name": "LayoutModel",
      "state": {}
     },
     "29d0c6b29e9d48e8bbefea00cb76d67d": {
      "model_module": "@jupyter-widgets/base",
      "model_module_version": "1.0.0",
      "model_name": "LayoutModel",
      "state": {}
     },
     "2ebf5436815a4cd09c54dc763c8ae29c": {
      "model_module": "@jupyter-widgets/base",
      "model_module_version": "1.0.0",
      "model_name": "LayoutModel",
      "state": {}
     },
     "3417ec6ce5884f338bd81f1ec9300521": {
      "model_module": "@jupyter-widgets/base",
      "model_module_version": "1.0.0",
      "model_name": "LayoutModel",
      "state": {}
     },
     "346c8b83c33946ecadfefe73aa5a2737": {
      "model_module": "@jupyter-widgets/controls",
      "model_module_version": "1.1.0",
      "model_name": "DescriptionStyleModel",
      "state": {
       "description_width": ""
      }
     },
     "353b5a54a1ad4d7c8aa20d6be486d407": {
      "model_module": "@jupyter-widgets/controls",
      "model_module_version": "1.1.0",
      "model_name": "VBoxModel",
      "state": {
       "_dom_classes": [
        "widget-interact"
       ],
       "children": [
        "IPY_MODEL_a5ef7986891e449f9b0d3e27bf73c4bc",
        "IPY_MODEL_0717843d823c44e8a840c05d8c5510ad",
        "IPY_MODEL_877deaaa7ab84193922182dc2855e8e6"
       ],
       "layout": "IPY_MODEL_fe40b6359e9d4cd6bed743b217d6cbca"
      }
     },
     "3776c17f8a804e04b37b0cbbc7d84133": {
      "model_module": "@jupyter-widgets/base",
      "model_module_version": "1.0.0",
      "model_name": "LayoutModel",
      "state": {}
     },
     "3c0cfd123dae4fc284ef33fb09972592": {
      "model_module": "@jupyter-widgets/controls",
      "model_module_version": "1.1.0",
      "model_name": "DescriptionStyleModel",
      "state": {
       "description_width": ""
      }
     },
     "3e0850625269436fb5cf9db3bf4ca224": {
      "model_module": "@jupyter-widgets/controls",
      "model_module_version": "1.1.0",
      "model_name": "DescriptionStyleModel",
      "state": {
       "description_width": ""
      }
     },
     "3f1bbf7799e040a0b4bf897ab2248ea6": {
      "model_module": "@jupyter-widgets/controls",
      "model_module_version": "1.1.0",
      "model_name": "DescriptionStyleModel",
      "state": {
       "description_width": ""
      }
     },
     "403c602782a44d839099e53f31604842": {
      "model_module": "@jupyter-widgets/controls",
      "model_module_version": "1.1.0",
      "model_name": "DropdownModel",
      "state": {
       "_options_labels": [
        "OpenMPI",
        "MPICH"
       ],
       "description": "MPI",
       "index": 0,
       "layout": "IPY_MODEL_00197db860974835ad961ee114ed9eec",
       "style": "IPY_MODEL_346c8b83c33946ecadfefe73aa5a2737"
      }
     },
     "42395aaf62b446c3b82e993c5e8ccc79": {
      "model_module": "@jupyter-widgets/controls",
      "model_module_version": "1.1.0",
      "model_name": "DropdownModel",
      "state": {
       "_options_labels": [
        "OpenMPI",
        "MPICH"
       ],
       "description": "MPI version to use:",
       "index": 0,
       "layout": "IPY_MODEL_6316c66ff88d4e849e31f1252af9a7b5",
       "style": "IPY_MODEL_aa3af7caacc549af9a7088baca0bc5e6"
      }
     },
     "42f5116183314841b658ca242d2f6dd5": {
      "model_module": "@jupyter-widgets/controls",
      "model_module_version": "1.1.0",
      "model_name": "DropdownModel",
      "state": {
       "_options_labels": [
        "OpenMPI",
        "MPICH"
       ],
       "description": "MPI",
       "index": 0,
       "layout": "IPY_MODEL_8b4abfae8b3342a997a4eb0d312410a1",
       "style": "IPY_MODEL_cdfb8c21195649a19d6421177d712a64"
      }
     },
     "43317cb8f88c4768a84b57864baf48c0": {
      "model_module": "@jupyter-widgets/base",
      "model_module_version": "1.0.0",
      "model_name": "LayoutModel",
      "state": {}
     },
     "46792184b44e4f58b1c995c26cf818ae": {
      "model_module": "@jupyter-widgets/base",
      "model_module_version": "1.0.0",
      "model_name": "LayoutModel",
      "state": {}
     },
     "4a07b50c67114ee3b76fabb6cb825944": {
      "model_module": "@jupyter-widgets/controls",
      "model_module_version": "1.1.0",
      "model_name": "VBoxModel",
      "state": {
       "_dom_classes": [
        "widget-interact"
       ],
       "children": [
        "IPY_MODEL_650399d70a9f4482992e42764d376420",
        "IPY_MODEL_8fd5b298aa3745629be10918362e20bb",
        "IPY_MODEL_ab4f369c0701488d8c72b9d4a0cd9fbd"
       ],
       "layout": "IPY_MODEL_b2843f3e817a47feb179d73faccd4978"
      }
     },
     "56e60166b1e34fe5becbfac17e2bfba1": {
      "model_module": "@jupyter-widgets/controls",
      "model_module_version": "1.1.0",
      "model_name": "VBoxModel",
      "state": {
       "_dom_classes": [
        "widget-interact"
       ],
       "children": [
        "IPY_MODEL_809b21d4dab74d8a835d45745050694a",
        "IPY_MODEL_42f5116183314841b658ca242d2f6dd5",
        "IPY_MODEL_fffabc905a834b71aaee370ed601138e"
       ],
       "layout": "IPY_MODEL_91ded71bde81441195c3688b72e2651f"
      }
     },
     "58e5b174d1ec4cb1bf7f32c37f2dd567": {
      "model_module": "@jupyter-widgets/base",
      "model_module_version": "1.0.0",
      "model_name": "LayoutModel",
      "state": {}
     },
     "6316c66ff88d4e849e31f1252af9a7b5": {
      "model_module": "@jupyter-widgets/base",
      "model_module_version": "1.0.0",
      "model_name": "LayoutModel",
      "state": {}
     },
     "6461c081e56e4d1993122fceda8587e5": {
      "model_module": "@jupyter-widgets/controls",
      "model_module_version": "1.1.0",
      "model_name": "DropdownModel",
      "state": {
       "_options_labels": [
        "Ubuntu Linux",
        "macOS",
        "Other"
       ],
       "description": "OS",
       "index": 1,
       "layout": "IPY_MODEL_6e623f10204c4ace86e568667fda1c51",
       "style": "IPY_MODEL_b8ff796f49ed4d519ad9e0d549b1ddeb"
      }
     },
     "650399d70a9f4482992e42764d376420": {
      "model_module": "@jupyter-widgets/controls",
      "model_module_version": "1.1.0",
      "model_name": "DropdownModel",
      "state": {
       "_options_labels": [
        "macOS",
        "Other",
        "Ubuntu Linux"
       ],
       "description": "OS",
       "index": 2,
       "layout": "IPY_MODEL_9b75f549fbdf4befa54bc75aabc6f804",
       "style": "IPY_MODEL_b137dcc3055b42019a238c3600e15fa8"
      }
     },
     "67de0f099fb44b6cb2d4ec89b7fa0481": {
      "model_module": "@jupyter-widgets/base",
      "model_module_version": "1.0.0",
      "model_name": "LayoutModel",
      "state": {}
     },
     "6e623f10204c4ace86e568667fda1c51": {
      "model_module": "@jupyter-widgets/base",
      "model_module_version": "1.0.0",
      "model_name": "LayoutModel",
      "state": {}
     },
     "73f8b3677f1e4158a21668ae743c2505": {
      "model_module": "@jupyter-widgets/base",
      "model_module_version": "1.0.0",
      "model_name": "LayoutModel",
      "state": {}
     },
     "7cace31691ac4b69aa8d7669165c7cc2": {
      "model_module": "@jupyter-widgets/base",
      "model_module_version": "1.0.0",
      "model_name": "LayoutModel",
      "state": {}
     },
     "7d6e074c87d748a7a51869cddcdae046": {
      "model_module": "@jupyter-widgets/controls",
      "model_module_version": "1.1.0",
      "model_name": "DescriptionStyleModel",
      "state": {
       "description_width": ""
      }
     },
     "809b21d4dab74d8a835d45745050694a": {
      "model_module": "@jupyter-widgets/controls",
      "model_module_version": "1.1.0",
      "model_name": "DropdownModel",
      "state": {
       "_options_labels": [
        "Ubuntu Linux",
        "macOS",
        "Other"
       ],
       "description": "OS",
       "index": 0,
       "layout": "IPY_MODEL_1fa4247748c2459e9d3c666c4147a58e",
       "style": "IPY_MODEL_cacb6403136e4b9bace392ce81e5cad8"
      }
     },
     "877deaaa7ab84193922182dc2855e8e6": {
      "model_module": "@jupyter-widgets/output",
      "model_module_version": "1.0.0",
      "model_name": "OutputModel",
      "state": {
       "layout": "IPY_MODEL_46792184b44e4f58b1c995c26cf818ae",
       "outputs": [
        {
         "data": {
          "text/markdown": "In Ubuntu, use apt-get to install dependencies:  \n\n```bash\n\nsudo apt-get install build-essential gfortran python-dev \\\n     libgsl0-dev cmake libfftw3-3 libfftw3-dev \\\n     libgmp3-dev libmpfr4 libmpfr-dev \\\n     libhdf5-serial-dev hdf5-tools \\\n     python-nose python-numpy python-setuptools python-docutils \\\n     python-h5py python-setuptools git \\\n     libopenmpi-dev openmpi-bin\nsudo easy_install mpi4py \n```",
          "text/plain": "<IPython.core.display.Markdown object>"
         },
         "metadata": {},
         "output_type": "display_data"
        }
       ]
      }
     },
     "881100acdce348db8c842d90f5fa425e": {
      "model_module": "@jupyter-widgets/output",
      "model_module_version": "1.0.0",
      "model_name": "OutputModel",
      "state": {
       "layout": "IPY_MODEL_002f2ea626e44a3b9799419b431b72fe",
       "outputs": [
        {
         "data": {
          "text/markdown": "In Ubuntu, use apt-get to install dependencies:  \n\n```bash\n\nsudo apt-get install build-essential gfortran python-dev \\\n     libgsl0-dev cmake libfftw3-3 libfftw3-dev \\\n     libgmp3-dev libmpfr4 libmpfr-dev \\\n     libhdf5-serial-dev hdf5-tools \\\n     python-nose python-numpy python-setuptools python-docutils \\\n     python-h5py python-setuptools git \\\n     libopenmpi-dev openmpi-bin\nsudo easy_install mpi4py \n```",
          "text/plain": "<IPython.core.display.Markdown object>"
         },
         "metadata": {},
         "output_type": "display_data"
        }
       ]
      }
     },
     "8b4abfae8b3342a997a4eb0d312410a1": {
      "model_module": "@jupyter-widgets/base",
      "model_module_version": "1.0.0",
      "model_name": "LayoutModel",
      "state": {}
     },
     "8fd5b298aa3745629be10918362e20bb": {
      "model_module": "@jupyter-widgets/controls",
      "model_module_version": "1.1.0",
      "model_name": "DropdownModel",
      "state": {
       "_options_labels": [
        "MPICH",
        "OpenMPI"
       ],
       "description": "MPI",
       "index": 1,
       "layout": "IPY_MODEL_67de0f099fb44b6cb2d4ec89b7fa0481",
       "style": "IPY_MODEL_3e0850625269436fb5cf9db3bf4ca224"
      }
     },
     "91ded71bde81441195c3688b72e2651f": {
      "model_module": "@jupyter-widgets/base",
      "model_module_version": "1.0.0",
      "model_name": "LayoutModel",
      "state": {}
     },
     "93e52699d73a4cdd9304e3e036102e88": {
      "model_module": "@jupyter-widgets/output",
      "model_module_version": "1.0.0",
      "model_name": "OutputModel",
      "state": {
       "layout": "IPY_MODEL_261d9b80a4ea4a359262690bb0305fa7",
       "outputs": [
        {
         "data": {
          "text/markdown": "In macOS, we use macports to install dependencies. \nOther methods (e.g. Homebrew) will probably work just as well, but we have not tested these.\n    \nIn the example below, we use GCC version 6, but other versions will also work.\n\n```bash\n\nsudo port install gcc6\n    \nsudo port install python27\nsudo port install openmpi-gcc6\nsudo port install fftw-3 +gcc6\nsudo port install hdf5 gsl cmake gmp mpfr\nsudo port install py27-numpy py27-h5py py27-nose py27-docutils \nsudo port install py27-mpi4py +gcc6\nsudo port install py27-matplotlib\n\n```  \n\nTo make sure the right MacPorts compilers and python are set as default, do the following:\n\n```bash\n\nsudo port select --set mpi openmpi-gcc6-fortran\nsudo port select --set gcc mp-gcc6\nsudo port select --set python python27\nsudo port select --set nosetests nosetests27\n\n```\n\nAfter installing you will need to configure the code with the following line:\n\n```bash\n\n./configure --with-fftw=/opt/local\n```",
          "text/plain": "<IPython.core.display.Markdown object>"
         },
         "metadata": {},
         "output_type": "display_data"
        }
       ]
      }
     },
     "945d555b05f64583b331d69b610f9a10": {
      "model_module": "@jupyter-widgets/controls",
      "model_module_version": "1.1.0",
      "model_name": "DescriptionStyleModel",
      "state": {
       "description_width": ""
      }
     },
     "97498e31a70244bbb88a3635dd16e8f6": {
      "model_module": "@jupyter-widgets/controls",
      "model_module_version": "1.1.0",
      "model_name": "DescriptionStyleModel",
      "state": {
       "description_width": ""
      }
     },
     "9764f148507547d1bd138f8c0bdfc8f4": {
      "model_module": "@jupyter-widgets/output",
      "model_module_version": "1.0.0",
      "model_name": "OutputModel",
      "state": {
       "layout": "IPY_MODEL_bbd0b1db245140349e2233137daea20c",
       "outputs": [
        {
         "data": {
          "text/markdown": "In Ubuntu, use apt-get to install dependencies:  \n\n```bash\n\nsudo apt-get install build-essential gfortran python-dev \\\n     libgsl0-dev cmake libfftw3-3 libfftw3-dev \\\n     libgmp3-dev libmpfr4 libmpfr-dev \\\n     libhdf5-serial-dev hdf5-tools \\\n     python-nose python-numpy python-setuptools python-docutils \\\n     python-h5py python-setuptools git \\\n     libopenmpi-dev openmpi-bin\nsudo easy_install mpi4py \n```",
          "text/plain": "<IPython.core.display.Markdown object>"
         },
         "metadata": {},
         "output_type": "display_data"
        }
       ]
      }
     },
     "99af6d8fe6ab4e0097103775bc4554ea": {
      "model_module": "@jupyter-widgets/controls",
      "model_module_version": "1.1.0",
      "model_name": "DropdownModel",
      "state": {
       "_options_labels": [
        "OpenMPI",
        "MPICH"
       ],
       "description": "MPI",
       "index": 0,
       "layout": "IPY_MODEL_ea9e338e796349768b1ac32f2ea9ac18",
       "style": "IPY_MODEL_97498e31a70244bbb88a3635dd16e8f6"
      }
     },
     "9b75f549fbdf4befa54bc75aabc6f804": {
      "model_module": "@jupyter-widgets/base",
      "model_module_version": "1.0.0",
      "model_name": "LayoutModel",
      "state": {}
     },
     "9c8f15bd95764510a3d6e57b9e7c852a": {
      "model_module": "@jupyter-widgets/controls",
      "model_module_version": "1.1.0",
      "model_name": "DropdownModel",
      "state": {
       "_options_labels": [
        "Ubuntu Linux",
        "macOS",
        "Other"
       ],
       "description": "OS",
       "index": 0,
       "layout": "IPY_MODEL_58e5b174d1ec4cb1bf7f32c37f2dd567",
       "style": "IPY_MODEL_d0917a4f6c934fe0bd647abb5ce128eb"
      }
     },
     "a5ef7986891e449f9b0d3e27bf73c4bc": {
      "model_module": "@jupyter-widgets/controls",
      "model_module_version": "1.1.0",
      "model_name": "DropdownModel",
      "state": {
       "_options_labels": [
        "Ubuntu Linux",
        "macOS",
        "Other"
       ],
       "description": "OS",
       "index": 0,
       "layout": "IPY_MODEL_d0c948c67a1b4385bea7324e6a24f810",
       "style": "IPY_MODEL_ff0c7f7cfe4f475b81e04fc61cc0e355"
      }
     },
     "a9bc98b167524354b34fdd7ef5e2bd4d": {
      "model_module": "@jupyter-widgets/controls",
      "model_module_version": "1.1.0",
      "model_name": "DropdownModel",
      "state": {
       "_options_labels": [
        "Ubuntu Linux",
        "macOS",
        "Other"
       ],
       "description": "OS",
       "index": 0,
       "layout": "IPY_MODEL_43317cb8f88c4768a84b57864baf48c0",
       "style": "IPY_MODEL_fc044f16b9294da3934b066eb5652f8f"
      }
     },
     "aa3af7caacc549af9a7088baca0bc5e6": {
      "model_module": "@jupyter-widgets/controls",
      "model_module_version": "1.1.0",
      "model_name": "DescriptionStyleModel",
      "state": {
       "description_width": ""
      }
     },
     "ab4f369c0701488d8c72b9d4a0cd9fbd": {
      "model_module": "@jupyter-widgets/output",
      "model_module_version": "1.0.0",
      "model_name": "OutputModel",
      "state": {
       "layout": "IPY_MODEL_2604c5714071499fa8df1491afc5627f",
       "outputs": [
        {
         "data": {
          "text/markdown": "In Ubuntu, use apt-get to install dependencies:  \n\n```bash\n\nsudo apt-get install build-essential gfortran python-dev \\\n     libgsl0-dev cmake libfftw3-3 libfftw3-dev \\\n     libgmp3-dev libmpfr4 libmpfr-dev \\\n     libhdf5-serial-dev hdf5-tools \\\n     python-nose python-numpy python-setuptools python-docutils \\\n     python-h5py python-setuptools git \\\n     libopenmpi-dev openmpi-bin\nsudo easy_install mpi4py \n```",
          "text/plain": "<IPython.core.display.Markdown object>"
         },
         "metadata": {},
         "output_type": "display_data"
        }
       ]
      }
     },
     "b137dcc3055b42019a238c3600e15fa8": {
      "model_module": "@jupyter-widgets/controls",
      "model_module_version": "1.1.0",
      "model_name": "DescriptionStyleModel",
      "state": {
       "description_width": ""
      }
     },
     "b2843f3e817a47feb179d73faccd4978": {
      "model_module": "@jupyter-widgets/base",
      "model_module_version": "1.0.0",
      "model_name": "LayoutModel",
      "state": {}
     },
     "b6d5bfc3ab294332a8841558f4c12212": {
      "model_module": "@jupyter-widgets/controls",
      "model_module_version": "1.1.0",
      "model_name": "DropdownModel",
      "state": {
       "_options_labels": [
        "OpenMPI",
        "MPICH"
       ],
       "description": "MPI",
       "index": 0,
       "layout": "IPY_MODEL_d4cc7ebe2a054cbd84bf20a59f71d727",
       "style": "IPY_MODEL_3f1bbf7799e040a0b4bf897ab2248ea6"
      }
     },
     "b8ff796f49ed4d519ad9e0d549b1ddeb": {
      "model_module": "@jupyter-widgets/controls",
      "model_module_version": "1.1.0",
      "model_name": "DescriptionStyleModel",
      "state": {
       "description_width": ""
      }
     },
     "b98eaa9e5fed4f2b98dfdf1ea1893d69": {
      "model_module": "@jupyter-widgets/controls",
      "model_module_version": "1.1.0",
      "model_name": "DropdownModel",
      "state": {
       "_options_labels": [
        "Ubuntu Linux",
        "macOS",
        "Other"
       ],
       "description": "OS",
       "index": 0,
       "layout": "IPY_MODEL_d1ff3bb65c6f4edf93e2444cd4f427f5",
       "style": "IPY_MODEL_945d555b05f64583b331d69b610f9a10"
      }
     },
     "b9e1fc58cf3847bbb15868523f171f61": {
      "model_module": "@jupyter-widgets/controls",
      "model_module_version": "1.1.0",
      "model_name": "VBoxModel",
      "state": {
       "_dom_classes": [
        "widget-interact"
       ],
       "children": [
        "IPY_MODEL_6461c081e56e4d1993122fceda8587e5",
        "IPY_MODEL_1a699afb9d694cc1999dab651fe04885",
        "IPY_MODEL_93e52699d73a4cdd9304e3e036102e88"
       ],
       "layout": "IPY_MODEL_73f8b3677f1e4158a21668ae743c2505"
      }
     },
     "bbd0b1db245140349e2233137daea20c": {
      "model_module": "@jupyter-widgets/base",
      "model_module_version": "1.0.0",
      "model_name": "LayoutModel",
      "state": {}
     },
     "bc17895ef9f545dcb3199dc35a8ef50b": {
      "model_module": "@jupyter-widgets/controls",
      "model_module_version": "1.1.0",
      "model_name": "VBoxModel",
      "state": {
       "_dom_classes": [
        "widget-interact"
       ],
       "children": [
        "IPY_MODEL_9c8f15bd95764510a3d6e57b9e7c852a",
        "IPY_MODEL_403c602782a44d839099e53f31604842",
        "IPY_MODEL_881100acdce348db8c842d90f5fa425e"
       ],
       "layout": "IPY_MODEL_7cace31691ac4b69aa8d7669165c7cc2"
      }
     },
     "cacb6403136e4b9bace392ce81e5cad8": {
      "model_module": "@jupyter-widgets/controls",
      "model_module_version": "1.1.0",
      "model_name": "DescriptionStyleModel",
      "state": {
       "description_width": ""
      }
     },
     "cdfb8c21195649a19d6421177d712a64": {
      "model_module": "@jupyter-widgets/controls",
      "model_module_version": "1.1.0",
      "model_name": "DescriptionStyleModel",
      "state": {
       "description_width": ""
      }
     },
     "d0917a4f6c934fe0bd647abb5ce128eb": {
      "model_module": "@jupyter-widgets/controls",
      "model_module_version": "1.1.0",
      "model_name": "DescriptionStyleModel",
      "state": {
       "description_width": ""
      }
     },
     "d0c948c67a1b4385bea7324e6a24f810": {
      "model_module": "@jupyter-widgets/base",
      "model_module_version": "1.0.0",
      "model_name": "LayoutModel",
      "state": {}
     },
     "d1ff3bb65c6f4edf93e2444cd4f427f5": {
      "model_module": "@jupyter-widgets/base",
      "model_module_version": "1.0.0",
      "model_name": "LayoutModel",
      "state": {}
     },
     "d4cc7ebe2a054cbd84bf20a59f71d727": {
      "model_module": "@jupyter-widgets/base",
      "model_module_version": "1.0.0",
      "model_name": "LayoutModel",
      "state": {}
     },
     "e48a4ba70ad24e499ea2eb71b27c9050": {
      "model_module": "@jupyter-widgets/base",
      "model_module_version": "1.0.0",
      "model_name": "LayoutModel",
      "state": {}
     },
     "ea9e338e796349768b1ac32f2ea9ac18": {
      "model_module": "@jupyter-widgets/base",
      "model_module_version": "1.0.0",
      "model_name": "LayoutModel",
      "state": {}
     },
     "fc044f16b9294da3934b066eb5652f8f": {
      "model_module": "@jupyter-widgets/controls",
      "model_module_version": "1.1.0",
      "model_name": "DescriptionStyleModel",
      "state": {
       "description_width": ""
      }
     },
     "fe40b6359e9d4cd6bed743b217d6cbca": {
      "model_module": "@jupyter-widgets/base",
      "model_module_version": "1.0.0",
      "model_name": "LayoutModel",
      "state": {}
     },
     "ff0c7f7cfe4f475b81e04fc61cc0e355": {
      "model_module": "@jupyter-widgets/controls",
      "model_module_version": "1.1.0",
      "model_name": "DescriptionStyleModel",
      "state": {
       "description_width": ""
      }
     },
     "fffabc905a834b71aaee370ed601138e": {
      "model_module": "@jupyter-widgets/output",
      "model_module_version": "1.0.0",
      "model_name": "OutputModel",
      "state": {
       "layout": "IPY_MODEL_10c1de21d3414a4780ae84c5c9e7a64c",
       "outputs": [
        {
         "data": {
          "text/markdown": "In Ubuntu, use apt-get to install dependencies:  \n\n```bash\n\nsudo apt-get install build-essential gfortran python-dev \\\n     libgsl0-dev cmake libfftw3-3 libfftw3-dev \\\n     libgmp3-dev libmpfr4 libmpfr-dev \\\n     libhdf5-serial-dev hdf5-tools \\\n     python-nose python-numpy python-setuptools python-docutils \\\n     python-h5py python-setuptools git \\\n     libopenmpi-dev openmpi-bin\nsudo easy_install mpi4py \n```",
          "text/plain": "<IPython.core.display.Markdown object>"
         },
         "metadata": {},
         "output_type": "display_data"
        }
       ]
      }
     }
    },
    "version_major": 2,
    "version_minor": 0
   }
  }
 },
 "nbformat": 4,
 "nbformat_minor": 2
}
